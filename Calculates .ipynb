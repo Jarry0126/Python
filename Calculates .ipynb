{
  "nbformat": 4,
  "nbformat_minor": 0,
  "metadata": {
    "colab": {
      "provenance": []
    },
    "kernelspec": {
      "name": "python3",
      "display_name": "Python 3"
    },
    "language_info": {
      "name": "python"
    }
  },
  "cells": [
    {
      "cell_type": "code",
      "source": [
        "x=2\n",
        "y=1\n",
        "a=2*x+y\n",
        "b=100-y\n",
        "A=a*b\n",
        "print(\"Ans:\",A)"
      ],
      "metadata": {
        "colab": {
          "base_uri": "https://localhost:8080/"
        },
        "id": "mxZsSEm2cKLx",
        "outputId": "0dc6c2e2-b5d0-42e6-a635-daa531c77e23"
      },
      "execution_count": null,
      "outputs": [
        {
          "output_type": "stream",
          "name": "stdout",
          "text": [
            "Ans: 495\n"
          ]
        }
      ]
    },
    {
      "cell_type": "code",
      "source": [],
      "metadata": {
        "id": "iKyanO4GZ9gj"
      },
      "execution_count": null,
      "outputs": []
    },
    {
      "cell_type": "code",
      "source": [
        "y=4\n",
        "a=2*y+1\n",
        "A=100/a\n",
        "print(\"Ans:\",A)"
      ],
      "metadata": {
        "colab": {
          "base_uri": "https://localhost:8080/"
        },
        "id": "rJXr4etUeLZp",
        "outputId": "03af3866-9168-47d4-e3e7-941f1ccca6bf"
      },
      "execution_count": null,
      "outputs": [
        {
          "output_type": "stream",
          "name": "stdout",
          "text": [
            "Ans: 11.11111111111111\n"
          ]
        }
      ]
    }
  ]
}